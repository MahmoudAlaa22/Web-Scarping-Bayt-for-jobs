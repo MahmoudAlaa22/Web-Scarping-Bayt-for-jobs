{
 "cells": [
  {
   "cell_type": "code",
   "execution_count": 25,
   "metadata": {},
   "outputs": [],
   "source": [
    "import requests\n",
    "from bs4 import BeautifulSoup\n",
    "import csv\n",
    "from itertools import zip_longest\n"
   ]
  },
  {
   "cell_type": "code",
   "execution_count": 26,
   "metadata": {},
   "outputs": [],
   "source": [
    "url =\"https://www.bayt.com\"\n",
    "result = requests.get(f\"{url}/en/saudi-arabia/jobs/flutter-jobs/\")\n",
    "src = result.content\n",
    "soup = BeautifulSoup(src, 'lxml')\n",
    "job_titles = []\n",
    "company_names = []\n",
    "job_link = []\n",
    "date_posted = []\n",
    "job_location = []\n",
    "job_description = []\n",
    "skills = []\n",
    "job_details=[]"
   ]
  },
  {
   "cell_type": "code",
   "execution_count": 27,
   "metadata": {},
   "outputs": [],
   "source": [
    "job_titles_text = soup.find_all(\"h2\", {\"class\": \"jb-title m0 t-large m20r p40r t-nowrap\"})\n",
    "# linkes_text = job_titles_text.find(\"a\").attrs['href']\n",
    "company_names_text = soup.find_all(\"b\", {\"class\": \"jb-company t-nowrap\"})\n",
    "job_location_text = soup.find_all(\"span\", {\"class\": \"jb-loc t-mute t-nowrap u-block\"})\n",
    "date_posted_text = soup.find_all(\"div\", {\"class\": \"jb-date p0x t-xsmall t-mute m10r\",\"data-automation-id\":\"job-active-date\"})"
   ]
  },
  {
   "cell_type": "code",
   "execution_count": 28,
   "metadata": {},
   "outputs": [],
   "source": [
    "for i in range(len(job_titles_text)):\n",
    "    job_titles.append(job_titles_text[i].text.strip())\n",
    "    linkes_text = job_titles_text[i].find(\"a\").attrs['href']\n",
    "    job_link.append(url+linkes_text)\n",
    "    company_names.append(company_names_text[i].text.strip())\n",
    "    job_location.append(job_location_text[i].text.strip())\n",
    "    date_posted.append(date_posted_text[i].text.strip())\n"
   ]
  },
  {
   "cell_type": "code",
   "execution_count": 29,
   "metadata": {},
   "outputs": [],
   "source": [
    "for link in job_link:\n",
    "    result = requests.get(link)\n",
    "    src = result.content\n",
    "    soup = BeautifulSoup(src, 'lxml')\n",
    "    job_description_text = soup.find(\"div\", {\"class\": \"t-break\"})\n",
    "    skills_text = soup.find(\"div\", {\"class\": \"card-content is-spaced t-break print-break-before p20t\"})\n",
    "    job_details_text = soup.find(\"dl\", {\"class\": \"dlist is-spaced is-fitted t-small\"})\n",
    "    \n",
    "\n",
    "    \n",
    "    if skills_text is not None:\n",
    "        \n",
    "        skills.append(skills_text.find(\"p\").text.strip())\n",
    "    else:\n",
    "        skills.append(\"None\")\n",
    "    if job_description_text is not None:\n",
    "        job_description.append(job_description_text.text.strip())\n",
    "    else:\n",
    "        job_description.append(\"None\")\n",
    "    if job_details_text is not None:\n",
    "        job_details.append(job_details_text.text.strip())\n",
    "    else:\n",
    "        job_details.append(\"None\")"
   ]
  },
  {
   "cell_type": "code",
   "execution_count": 30,
   "metadata": {},
   "outputs": [],
   "source": [
    "file_list = [job_titles, company_names, job_location, date_posted, job_description, skills, job_details,job_link]\n",
    "\n",
    "# Use zip_longest directly\n",
    "exported = zip_longest(*file_list)\n",
    "\n",
    "with open(\"D:/Projects/python_projects/web scraping/jobs.csv\", \"w\", encoding=\"utf-8\", newline='') as file:\n",
    "    writer = csv.writer(file)\n",
    "    writer.writerow([\"Job Title\", \"Company Name\", \"Job Location\", \"Date Posted\", \"Job Description\", \"Skills\", \"Job Details\",\"Job Link\"])\n",
    "    writer.writerows(exported)"
   ]
  },
  {
   "cell_type": "code",
   "execution_count": null,
   "metadata": {},
   "outputs": [],
   "source": []
  }
 ],
 "metadata": {
  "kernelspec": {
   "display_name": "Python 3",
   "language": "python",
   "name": "python3"
  },
  "language_info": {
   "codemirror_mode": {
    "name": "ipython",
    "version": 3
   },
   "file_extension": ".py",
   "mimetype": "text/x-python",
   "name": "python",
   "nbconvert_exporter": "python",
   "pygments_lexer": "ipython3",
   "version": "3.12.2"
  }
 },
 "nbformat": 4,
 "nbformat_minor": 2
}
