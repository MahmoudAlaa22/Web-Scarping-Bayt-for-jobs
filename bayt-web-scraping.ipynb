{
 "cells": [
  {
   "cell_type": "code",
   "execution_count": 10,
   "metadata": {},
   "outputs": [],
   "source": [
    "import requests\n",
    "from bs4 import BeautifulSoup\n",
    "import csv\n",
    "from itertools import zip_longest\n"
   ]
  },
  {
   "cell_type": "code",
   "execution_count": 4,
   "metadata": {},
   "outputs": [],
   "source": [
    "url =\"https://www.bayt.com\"\n",
    "result = requests.get(f\"{url}/en/saudi-arabia/jobs/flutter-jobs/\")\n",
    "src = result.content\n",
    "soup = BeautifulSoup(src, 'lxml')\n",
    "job_titles = []\n",
    "company_names = []\n",
    "job_link = []\n",
    "date_posted = []\n",
    "job_location = []\n",
    "job_description = []\n",
    "skills = []\n",
    "job_details=[]"
   ]
  },
  {
   "cell_type": "code",
   "execution_count": 5,
   "metadata": {},
   "outputs": [],
   "source": [
    "job_titles_text = soup.find_all(\"h2\", {\"class\": \"jb-title m0 t-large m20r p40r t-nowrap\"})\n",
    "# linkes_text = job_titles_text.find(\"a\").attrs['href']\n",
    "company_names_text = soup.find_all(\"b\", {\"class\": \"jb-company t-nowrap\"})\n",
    "job_location_text = soup.find_all(\"span\", {\"class\": \"jb-loc t-mute t-nowrap u-block\"})\n",
    "date_posted_text = soup.find_all(\"div\", {\"class\": \"jb-date p0x t-xsmall t-mute m10r\",\"data-automation-id\":\"job-active-date\"})"
   ]
  },
  {
   "cell_type": "code",
   "execution_count": 6,
   "metadata": {},
   "outputs": [],
   "source": [
    "for i in range(len(job_titles_text)):\n",
    "    job_titles.append(job_titles_text[i].text.strip())\n",
    "    linkes_text = job_titles_text[i].find(\"a\").attrs['href']\n",
    "    job_link.append(url+linkes_text)\n",
    "    company_names.append(company_names_text[i].text.strip())\n",
    "    job_location.append(job_location_text[i].text.strip())\n",
    "    date_posted.append(date_posted_text[i].text.strip())\n"
   ]
  },
  {
   "cell_type": "code",
   "execution_count": 7,
   "metadata": {},
   "outputs": [],
   "source": [
    "for link in job_link:\n",
    "    result = requests.get(link)\n",
    "    src = result.content\n",
    "    soup = BeautifulSoup(src, 'lxml')\n",
    "    job_description_text = soup.find(\"div\", {\"class\": \"t-break\"})\n",
    "    skills_text = soup.find(\"div\", {\"class\": \"card-content is-spaced t-break print-break-before p20t\"})\n",
    "    job_details_text = soup.find(\"div\", {\"class\": \"dlist is-spaced is-fitted t-small\"})\n",
    "    \n",
    "    if skills_text is not None:\n",
    "        skills.append(skills_text.text.strip())\n",
    "    else:\n",
    "        skills.append(\"None\")\n",
    "    if job_description_text is not None:\n",
    "        job_description.append(job_description_text.text.strip())\n",
    "    else:\n",
    "        job_description.append(\"None\")\n",
    "    if job_details_text is not None:\n",
    "        job_details.append(job_details_text.text.strip())\n",
    "    else:\n",
    "        job_details.append(\"None\")"
   ]
  },
  {
   "cell_type": "code",
   "execution_count": 8,
   "metadata": {},
   "outputs": [
    {
     "name": "stdout",
     "output_type": "stream",
     "text": [
      "[['FLUTTER DEVELOPER', 'Software Developer Team Leader', 'Software Developer Team Leader', 'مبرمج تطبيقات موبايل', 'SR. MOBILE DEVELOPER - ARABIC SPEAKER', 'SOFTWARE TECHNICAL MANAGER - ARABIC SPEAKER', 'BI Analyst ( Web Developer)', 'Application Developer'], ['Confidential Company', 'Equivator', 'Equivator', 'IT', 'Duncan & Ross', 'Duncan & Ross', 'reeqwest', 'Arabic Computer Systems ltd'], ['Khobar, Saudi Arabia', 'Saudi Arabia', 'Saudi Arabia', 'Riyadh, Saudi Arabia', 'Riyadh, Saudi Arabia', 'Riyadh, Saudi Arabia', 'Saudi Arabia', 'Saudi Arabia'], ['2 days ago', '17 days ago', '17 days ago', '27 days ago', '30+ days ago', '30+ days ago', '30+ days ago', '30+ days ago'], [\"About the OpportunityOur dynamic startup is eager to welcome a passionate Flutter Developer as an addition to our ambitious team. This role is the cornerstone of our mobile initiatives, offering you the chance to shape the product from its earliest stages. You won’t just be coding; you will be instrumental in crafting the user experience, building a product that resonates with users, and leaving your mark on an app that has the potential to lead the market.Role Responsibilities•Design, develop, and maintain our cross-platform mobile applications using Flutter.•Work in tandem with the founding members to convert visionary ideas into high-quality technical solutions.•Create robust and maintainable mobile architectures that align with both industry standards and user needs.•Ensure optimum performance and reliability of the application, including troubleshooting and bug fixes.•Write readable, scalable, and well-documented code while adhering to Dart best practices.•Define and maintain the mobile tech stack, establishing a strong foundation for the application's growth and scalability.•Embrace the startup spirit by wearing various hats and being eager to delve into new technologies that can drive product evolution.•Participate in critical decision-making processes and contribute innovative ideas as a key player in our startup team.\", \"Position Summary: The Software Development Team Leader will be responsible for leading a team of developers in designing, implementing, and maintaining our software applications with a focus on mobile and web platforms. This role requires a combination of strong technical expertise, leadership skills, and a deep understanding of modern software development practices.Key Responsibilities:Lead the development and maintenance of applications using Flutter for frontend and Node.js for backend.Design robust database solutions using SQL and manage data interactions and storage with Firebase.Mentor and guide the development team through the software development lifecycle, including planning, coding, testing, deployment, and maintenance.Ensure the delivery of high-quality software solutions by enforcing best practices in coding, testing, and process management.Collaborate with other team leaders and stakeholders to define project scopes, goals, and deliverables aligned with business objectives.Manage timelines and resolve technical challenges to ensure project milestones are met efficiently.Conduct code reviews, provide constructive feedback, and foster an environment of continuous improvement.Keep abreast of new technologies and methodologies to potentially integrate into software projects and processes.Ensure scalability and performance of applications through sound architectural practices.Manage, lead, and track progress through agile methods using tools like JIRA or similar.Required Skills and Qualifications:Bachelor's or master's degree in Computer Science, Software Engineering, or a related field.5+ years of software development experience with a proven track record in Flutter, Node.js, and using SQL databases.At least 5 years of experience in a leadership role managing software development teams.Strong understanding of Firebase and its integration with mobile and web applications.Excellent knowledge of modern development processes and pipelines, including CI/CD, Git, and automated testing frameworks.Demonstrated ability to mentor and lead development teams in a fast-paced environment.Strong problem-solving skills and the ability to make decisions under pressure.Exceptional communication and interpersonal skills to effectively interact with team members and stakeholders.\", 'Position Summary:The Software Development Team Leader will be responsible for leading a team of developers in designing, implementing, and maintaining our software applications with a focus on mobile and web platforms. This role requires a combination of strong technical expertise, leadership skills, and a deep understanding of modern software development practices.Key Responsibilities:Lead the development and maintenance of applications using Flutter for frontend and Node.js for backend.Design robust database solutions using SQL and manage data interactions and storage with Firebase.Mentor and guide the development team through the software development lifecycle, including planning, coding, testing, deployment, and maintenance.Ensure the delivery of high-quality software solutions by enforcing best practices in coding, testing, and process management.Collaborate with other team leaders and stakeholders to define project scopes, goals, and deliverables aligned with business objectives.Manage timelines and resolve technical challenges to ensure project milestones are met efficiently.Conduct code reviews, provide constructive feedback, and foster an environment of continuous improvement.Keep abreast of new technologies and methodologies to potentially integrate into software projects and processes.Ensure scalability and performance of applications through sound architectural practices.Manage, lead, and track progress through agile methods using tools like JIRA or similar.', 'Fullstack, frontend, backend programmer', 'About the job SR. MOBILE DEVELOPER - ARABIC SPEAKER\\nRESPONSIBILITIES: \\nAs a Mobile Developer, you will be an integral contributor to our dynamic development team, focusing on creating cutting-edge mobile applications. Your role will involve using cross-platform technologies like Flutter and Dart to deliver high-quality, responsive, and user-friendly mobile applications. You will leverage your deep understanding of mobile development frameworks, user interface design, and backend integration to build robust and efficient mobile solutions.\\nTECHNICAL REQUIRMENTS:\\nDesign and develop high-quality, scalable mobile applications using Flutter, React Native, Android (Java), and iOS (Swift).Participate in the entire application lifecycle, from concept to deployment.Implement robust and efficient APIs and SDKs for enhanced app functionality.Ensure the performance, quality, and responsiveness of applications.Collaborate with cross-functional teams, including UI/UX designers and backend developers, to define, design, and ship new features.Integrate third-party services, such as push notifications, payments, location services, and analytics tools, into mobile applications.Maintain code quality through code reviews, unit testing, and adherence to best practices.Stay up to date with the latest industry trends in mobile technologies and implement them in ongoing projects.Bachelors degree in computer science, Software Engineering, or related field.Proven experience in mobile app development, specifically with cross-platform and native technologies.Strong expertise in Flutter, React Native, Android Java, and iOS Swift.Familiarity with RESTful APIs and mobile backend integrations.Proficiency in mobile UI/UX principles and design.Experience with code versioning tools, such as Git.Excellent problem-solving skills and team collaboration abilities. Vertical:\\nTechnology', \"About the job SOFTWARE TECHNICAL MANAGER - ARABIC SPEAKER\\nDESCRIPTION:\\nAs the Digital Channels Engineering Manager/Technical Lead, you will be responsible for leading agile cross-functional teams in creating and maintaining robust digital solutions. You will play a pivotal role in designing, developing, and implementing services across various digital channels. Your technical expertise and leadership skills will drive the success of digital initiatives and ensure meeting objectives effectively and efficiently.\\nRESPONSIBILITIES:\\nLead and manage the development team, overseeing all aspects of the software development processDesign and develop high-quality, scalable, and innovative applications using technologies such as ReactJs, Angular, Flutter, Node.js, and .NETDistribute tasks, set project timelines, and ensure timely delivery of development projectsCollaborate closely with design, testing, and product management teams to align development activities with business objectivesProvide technical guidance, mentorship, and support to team members, fostering a collaborative and productive work environmentKeeping up-to-date with the latest technologies and industry trends to integrate best practices and constantly improve current development methodologiesEnsure adherence to coding standards, development methodologies, and software development lifecycle guidelinesParticipate in code reviews, troubleshooting, and problem-solving to maintain high standards of code quality and application performanceCommunicate effectively with stakeholders at all levels, translating technical concepts to non-technical audiences\\nQUALIFICATIONS:\\nA Bachelor's degree in Computer Science or a related fieldAt least 8 years of experience in analysis and programming in a professional settingExperience in Agile methodologies in software development life cycleExtensive development experience with technologies such as ReactJs, Angular, Flutter, Node.js, or .NETProven ability to lead and manage a development team effectivelyStrong analytical, problem-solving, and project management skillsExcellent communication and interpersonal abilitiesAbility to collaborate effectively with cross-functional teams. Vertical:\\nTechnology\", \"Job Summary  Our Client is a primary care clinic chain based in Riyadh. \\xa0 Job Description: \\xa0\\n\\nMobile Application Development\\n \\xa0 \\nWeb Development\\n \\xa0 \\nSharePoint Development\\n \\xa0 \\nSharePoint Administration\\n \\xa0 \\nSQL Basics\\n \\xa0 \\nReport Development\\xa0\\n \\xa0 \\nTest, implement and document BI systems\\n \\xa0 \\nEvaluate existing data-collecting and analytics systems\\n \\xa0 \\nUse data visualization techniques to present information\\n\\n \\xa0 Job Requirements:\\n\\n \\xa0\\n\\nExperience \\xa0 2:4 Years\\xa0\\n \\xa0 \\nKnowledge of mobile development frameworks (e.g., React Native, Flutter, or Xamarin).\\n \\xa0 \\nExposure to SharePoint development and administration tasks.\\xa0\\n \\xa0 \\nFamiliarity with SQL basics and database management.\\n \\xa0 \\nPractical experience in creating reports using SSRS and Power BI.\\n \\xa0 \\nBasic understanding of SQL and database concepts.\\n \\xa0 \\nReport Development\\n \\xa0 \\nFamiliarity with SharePoint workflows and customization.\\n \\xa0 \\nBachelor's degree in Computer Science or related field.\", \"-Minimum 3 years of proven experience as a Flutter Developer, with a strong portfolio showcasing successful mobile app projects.-Experience in using Firebase or other backend services for app data storage and retrieval-Experience with android native, android SDK and iOS will be plus.-Proficiency in the Dart programming language and hands-on experience with the Flutter framework.-Solid understanding of mobile app development principles, including UI/UX design, performance optimization's, and integration of RESTful APIs.-Familiarity with state management using tools like Riverwood, Provider or Bloc.-Experience in using Firebase or other backend services for app data storage and retrieval.-Ability to work effectively in a cross-functional team environment and communicate technical concepts clearly.-Strong problem-solving skills and a proactive approach to tackling technical challenges.-Prior experience in the customer base application will be a plus.-Demonstrated ability to meet project deadlines and deliver high-quality code.-Hands on experience with the version control management like GIT.\"], ['Skills\\n•Has a proven track record of building and deploying Flutter applications; show us your portfolio!•Thrives in the startup ecosystem, easily adapting to rapid iterations and a fast-paced environment.•Boasts a comprehensive understanding of mobile app development, including UI/UX design, development, and deployment.•Is an autonomous go-getter who can oversee projects with minimal guidance and an eye for detail.•Is dedicated to delivering quality and has a meticulous approach to problem-solving and debugging.•Communicates effectively, capable of working alongside both technical and non-technical team members.I', 'Skills\\nCertifications relevant to Flutter, Node.js, SQL, or project management.Experience with additional programming languages or frameworks that complement the primary technology stack.Proven ability to manage and resolve conflicts within teams.', \"Skills\\nRequired Skills and Qualifications:Bachelor's or master's degree in Computer Science, Software Engineering, or a related field.5+ years of software development experience with a proven track record in Flutter, Node.js, and using SQL databases.At least 5 years of experience in a leadership role managing software development teams.Strong understanding of Firebase and its integration with mobile and web applications.Excellent knowledge of modern development processes and pipelines, including CI/CD, Git, and automated testing frameworks.Demonstrated ability to mentor and lead development teams in a fast-paced environment.Strong problem-solving skills and the ability to make decisions under pressure.Exceptional communication and interpersonal skills to effectively interact with team members and stakeholders.SkillsCertifications relevant to Flutter, Node.js, SQL, or project management.Experience with additional programming languages or frameworks that complement the primary technology stack.Proven ability to manage and resolve conflicts within teams.\", 'Skills\\nFlutterMysqlPhp', 'None', 'None', 'None', 'None'], ['None', 'None', 'None', 'None', 'None', 'None', 'None', 'None']]\n"
     ]
    }
   ],
   "source": [
    "file_list = [job_titles, company_names, job_location, date_posted, job_description, skills, job_details]\n",
    "print(file_list)\n",
    "exported = zip_longest(file_list)\n",
    "# print(exported)\n",
    "with open(\"D:/Projects/python_projects/web scraping/jobs.csv\", \"w\", encoding=\"utf-8\") as file:\n",
    "    writer = csv.writer(file)\n",
    "    writer.writerow([\"Job Title\", \"Company Name\", \"Job Location\", \"Date Posted\", \"Job Description\", \"Skills\", \"Job Details\"])\n",
    "    writer.writerows(zip_longest(exported))"
   ]
  },
  {
   "cell_type": "code",
   "execution_count": null,
   "metadata": {},
   "outputs": [],
   "source": []
  }
 ],
 "metadata": {
  "kernelspec": {
   "display_name": "Python 3",
   "language": "python",
   "name": "python3"
  },
  "language_info": {
   "codemirror_mode": {
    "name": "ipython",
    "version": 3
   },
   "file_extension": ".py",
   "mimetype": "text/x-python",
   "name": "python",
   "nbconvert_exporter": "python",
   "pygments_lexer": "ipython3",
   "version": "3.12.2"
  }
 },
 "nbformat": 4,
 "nbformat_minor": 2
}
